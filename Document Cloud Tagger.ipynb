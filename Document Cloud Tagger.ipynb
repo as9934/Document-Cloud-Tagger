{
 "cells": [
  {
   "cell_type": "code",
   "execution_count": 18,
   "metadata": {},
   "outputs": [],
   "source": [
    "#get selenium and associated packages\n",
    "from selenium import webdriver\n",
    "from selenium.webdriver import Chrome\n",
    "from selenium.webdriver.common.keys import Keys\n",
    "from selenium.webdriver.chrome.options import Options\n",
    "\n",
    "from time import sleep"
   ]
  },
  {
   "cell_type": "code",
   "execution_count": 19,
   "metadata": {},
   "outputs": [],
   "source": [
    "def validate_field(field):\n",
    "    if field:\n",
    "        pass\n",
    "    else:\n",
    "        field = 'No results'\n",
    "    return field"
   ]
  },
  {
   "cell_type": "code",
   "execution_count": 20,
   "metadata": {},
   "outputs": [],
   "source": [
    "driver = webdriver.Chrome('~/chromedriver') #change to the path to your chromedriver"
   ]
  },
  {
   "cell_type": "code",
   "execution_count": 22,
   "metadata": {},
   "outputs": [],
   "source": [
    "driver.get('https://www.documentcloud.org')"
   ]
  },
  {
   "cell_type": "code",
   "execution_count": 23,
   "metadata": {},
   "outputs": [],
   "source": [
    "driver.find_element_by_class_name('signin.svelte-1jzlm9h').click()\n",
    "driver.find_element_by_class_name('_cls-usernameInput.form-control').send_keys('name@email.com') #put your email in the single quotes\n",
    "driver.find_element_by_class_name('_cls-passwordInput.textinput.textInput.form-control').send_keys('abc123') #put your password in the single quotes\n",
    "driver.find_element_by_class_name('_cls-actionBig').click()"
   ]
  },
  {
   "cell_type": "code",
   "execution_count": 28,
   "metadata": {},
   "outputs": [],
   "source": [
    "for i in range(0,20): #starting with the first document. Set the second number to be the number of documents in that case.   \n",
    "    #open the document\n",
    "    open_button = driver.find_elements_by_class_name('svelte-d3hny0.fade.show')[i]\n",
    "    open_button.click()\n",
    "    sleep(3)\n",
    "    #click the edit tags button and switch to key-value\n",
    "    edit_tags =  driver.find_elements_by_class_name('action.svelte-18a56tg')[5]\n",
    "    edit_tags.click()\n",
    "    driver.find_element_by_class_name('dropper').click()\n",
    "    key_value = driver.find_elements_by_class_name('item.svelte-dgby4e.selectable')[1]\n",
    "    key_value.click()\n",
    "#     if its already been tagged than don't tag again\n",
    "    try: \n",
    "        driver.find_elements_by_class_name('svelte-vh86uf')[1]\n",
    "        driver.get('https://www.documentcloud.org/app?q=%2Bproject%3Acalifornia-reporting-proj-42046%20%09')\n",
    "    except IndexError:\n",
    "        #add first tag for geograohy\n",
    "        key_form = driver.find_element_by_class_name('key.svelte-19n8bu9')\n",
    "        key_form.send_keys('geography')\n",
    "        value_form = driver.find_element_by_class_name('value.svelte-19n8bu9')\n",
    "        value_form.send_keys('Contra Costa') #change to the agency's county\n",
    "        driver.find_element_by_class_name('svelte-vh86uf').click()\n",
    "        key_form.clear()\n",
    "        value_form.clear()\n",
    "        #add second tag for case type\n",
    "        key_form.send_keys('case-type')\n",
    "        value_form.send_keys('uof') #change to the case type\n",
    "        driver.find_element_by_class_name('svelte-vh86uf').click()\n",
    "        key_form.clear()\n",
    "        value_form.clear()\n",
    "        #add third tage for case name\n",
    "        key_form.send_keys('case-name')\n",
    "        value_form.send_keys('MetroPoliceDeptJohnSmith01012021') #change to the case name\n",
    "        driver.find_element_by_class_name('svelte-vh86uf').click()\n",
    "        key_form.clear()\n",
    "        value_form.clear()\n",
    "        #add fourth tage for agency type\n",
    "        key_form.send_keys('agency-type')\n",
    "        value_form.send_keys('Police department') #change to the agency type\n",
    "        driver.find_element_by_class_name('svelte-vh86uf').click()\n",
    "        key_form.clear()\n",
    "        value_form.clear()\n",
    "        #add fifth tage for agency name\n",
    "        key_form.send_keys('agency-name')\n",
    "        value_form.send_keys('Metro Police Department') #change to the agency name\n",
    "        driver.find_element_by_class_name('svelte-vh86uf').click()\n",
    "        key_form.clear()\n",
    "        value_form.clear()\n",
    "        sleep(3)\n",
    "        #click done\n",
    "        done = driver.find_elements_by_class_name('svelte-vh86uf')[2]\n",
    "        done.click()\n",
    "        #go back to main page\n",
    "        back = driver.find_element_by_class_name('back.svelte-385nw2')\n",
    "        back.click()\n",
    "        sleep(2)"
   ]
  }
 ],
 "metadata": {
  "kernelspec": {
   "display_name": "Python 3",
   "language": "python",
   "name": "python3"
  },
  "language_info": {
   "codemirror_mode": {
    "name": "ipython",
    "version": 3
   },
   "file_extension": ".py",
   "mimetype": "text/x-python",
   "name": "python",
   "nbconvert_exporter": "python",
   "pygments_lexer": "ipython3",
   "version": "3.8.8"
  }
 },
 "nbformat": 4,
 "nbformat_minor": 4
}
